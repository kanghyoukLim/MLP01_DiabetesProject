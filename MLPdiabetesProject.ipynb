{
 "cells": [
  {
   "cell_type": "markdown",
   "id": "265c3507-3bdb-4cef-8d6a-949f4c041d21",
   "metadata": {
    "tags": []
   },
   "source": [
    "# MLP_Diabetes Project(다중 레이어 퍼셉트론으로 당뇨 발병 위험 예측모 모델)\n",
    "  \n",
    "###### 2024-2-26 KH.LIM @Cheongju MyHappyHome\n",
    "###### 신경망 교과서 참조\n",
    "###### over96@naver.com"
   ]
  },
  {
   "cell_type": "code",
   "execution_count": null,
   "id": "90909169-c55f-4cc9-8850-5e193307c2bd",
   "metadata": {},
   "outputs": [],
   "source": []
  }
 ],
 "metadata": {
  "kernelspec": {
   "display_name": "Python 3 (ipykernel)",
   "language": "python",
   "name": "python3"
  },
  "language_info": {
   "codemirror_mode": {
    "name": "ipython",
    "version": 3
   },
   "file_extension": ".py",
   "mimetype": "text/x-python",
   "name": "python",
   "nbconvert_exporter": "python",
   "pygments_lexer": "ipython3",
   "version": "3.11.4"
  }
 },
 "nbformat": 4,
 "nbformat_minor": 5
}
